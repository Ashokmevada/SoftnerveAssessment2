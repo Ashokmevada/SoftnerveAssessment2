{
 "cells": [
  {
   "cell_type": "code",
   "execution_count": null,
   "metadata": {},
   "outputs": [],
   "source": [
    "#Q1\n",
    "#Leader in the Array\n",
    "\n",
    "def find_leader(arr):\n",
    "    max = -1\n",
    "    ans_list = []\n",
    "    \n",
    "    for i in range(len(arr)-1 , -1 , -1):\n",
    "        if arr[i] > max:\n",
    "            ans_list.append(arr[i])\n",
    "            max = arr[i]\n",
    "\n",
    "    return ans_list         \n",
    "\n",
    "arr = [7, 10, 4, 10, 6, 5, 2]\n",
    "ans = find_leader(arr)\n",
    "ans[::-1]"
   ]
  },
  {
   "cell_type": "code",
   "execution_count": 15,
   "metadata": {},
   "outputs": [
    {
     "name": "stdout",
     "output_type": "stream",
     "text": [
      "5\n",
      "0\n"
     ]
    }
   ],
   "source": [
    "#Q2\n",
    "#Best time to buy and sell stocks\n",
    "import sys\n",
    "\n",
    "\n",
    "def best_profit(arr2):\n",
    "    max_profit = -sys.maxsize -1 \n",
    "    max_price = -sys.maxsize -1\n",
    "\n",
    "    for i in range(len(arr2)-1 , -1 , -1):       \n",
    "\n",
    "        if(max_price < arr2[i]):           \n",
    "            max_price = arr2[i]\n",
    "\n",
    "        profit = max_price -arr2[i]\n",
    "        if(profit > max_profit):            \n",
    "            max_profit = profit\n",
    "\n",
    "    return max_profit \n",
    "\n",
    "arr2 = [7,1,5,3,6,4]\n",
    "print(best_profit(arr2))\n",
    "\n",
    "arr3 = [7,6,4,3,1]\n",
    "print(best_profit(arr3))\n",
    "\n",
    "\n",
    "\n",
    "\n"
   ]
  },
  {
   "cell_type": "code",
   "execution_count": 21,
   "metadata": {},
   "outputs": [
    {
     "name": "stdout",
     "output_type": "stream",
     "text": [
      "28\n",
      "6\n"
     ]
    }
   ],
   "source": [
    "#Q3\n",
    "#Total XOR of subsets of array\n",
    "def total_XOR(arr):\n",
    "    def power_set(arr):\n",
    "        subsets = [[]]\n",
    "        for i in arr:\n",
    "            subsets += [subset + [i] for subset in subsets]\n",
    "        return subsets\n",
    "\n",
    "    subsets = power_set(arr)\n",
    "    total = 0\n",
    "    for subset in subsets:\n",
    "        subset_XOR = 0\n",
    "        for num in subset:\n",
    "            subset_XOR ^= num\n",
    "        total += subset_XOR\n",
    "    return total\n",
    "\n",
    "arr = [5, 1, 6]\n",
    "print(total_XOR(arr))\n",
    "\n",
    "arr = [1,3]\n",
    "print(total_XOR(arr))\n"
   ]
  },
  {
   "cell_type": "markdown",
   "metadata": {},
   "source": [
    "# Additional Details\n",
    "\n",
    "1. Rating of DSA :- Skillful \n",
    "    Topics:- Array , string , stack, queue , tree , little of graph\n",
    "2. Leetcode Rank :- 901839 and in top 80.33%\n",
    "    link :- https://leetcode.com/ashokmevada18/\n",
    "\n",
    "    CodeChef Rating:- 1104\n",
    "\n",
    "3. Deep learning :- Have basic knowledge\n",
    "\n",
    "4. Appetite of reasearch and putting        thoughts in doc :- Strong "
   ]
  }
 ],
 "metadata": {
  "kernelspec": {
   "display_name": "Python 3.11.4 64-bit",
   "language": "python",
   "name": "python3"
  },
  "language_info": {
   "codemirror_mode": {
    "name": "ipython",
    "version": 3
   },
   "file_extension": ".py",
   "mimetype": "text/x-python",
   "name": "python",
   "nbconvert_exporter": "python",
   "pygments_lexer": "ipython3",
   "version": "3.11.4"
  },
  "orig_nbformat": 4,
  "vscode": {
   "interpreter": {
    "hash": "5238573367df39f7286bb46f9ff5f08f63a01a80960060ce41e3c79b190280fa"
   }
  }
 },
 "nbformat": 4,
 "nbformat_minor": 2
}
